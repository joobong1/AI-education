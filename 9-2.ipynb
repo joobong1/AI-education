{
  "cells": [
    {
      "cell_type": "markdown",
      "metadata": {
        "id": "MusV5YYT6kQF"
      },
      "source": [
        "# 순환 신경망으로 IMDB 리뷰 분류하기"
      ]
    },
    {
      "cell_type": "markdown",
      "metadata": {
        "id": "9uYfRb5-6kQQ"
      },
      "source": [
        "<table align=\"left\">\n",
        "  <td>\n",
        "    <a target=\"_blank\" href=\"https://colab.research.google.com/github/rickiepark/hg-mldl/blob/master/9-2.ipynb\"><img src=\"https://www.tensorflow.org/images/colab_logo_32px.png\" />구글 코랩에서 실행하기</a>\n",
        "  </td>\n",
        "</table>"
      ]
    },
    {
      "cell_type": "code",
      "execution_count": 1,
      "metadata": {
        "id": "oBxL32NvSEVb"
      },
      "outputs": [],
      "source": [
        "# 실행마다 동일한 결과를 얻기 위해 케라스에 랜덤 시드를 사용하고 텐서플로 연산을 결정적으로 만듭니다. \n",
        "import tensorflow as tf\n",
        "\n",
        "tf.keras.utils.set_random_seed(42)\n",
        "tf.config.experimental.enable_op_determinism()"
      ]
    },
    {
      "cell_type": "markdown",
      "metadata": {
        "id": "S1A-DDIQ6kQQ"
      },
      "source": [
        "## IMDB 리뷰 데이터셋"
      ]
    },
    {
      "cell_type": "code",
      "execution_count": 2,
      "metadata": {
        "colab": {
          "base_uri": "https://localhost:8080/"
        },
        "id": "sZoZm1ZO6kQR",
        "outputId": "970e9522-28c6-4b10-b671-1f5eff9f90a4"
      },
      "outputs": [
        {
          "output_type": "stream",
          "name": "stdout",
          "text": [
            "Downloading data from https://storage.googleapis.com/tensorflow/tf-keras-datasets/imdb.npz\n",
            "17464789/17464789 [==============================] - 2s 0us/step\n"
          ]
        }
      ],
      "source": [
        "from tensorflow.keras.datasets import imdb\n",
        "\n",
        "(train_input, train_target), (test_input, test_target) = imdb.load_data(\n",
        "    num_words=300)"
      ]
    },
    {
      "cell_type": "code",
      "execution_count": 3,
      "metadata": {
        "colab": {
          "base_uri": "https://localhost:8080/"
        },
        "id": "HTFjz6k06kQR",
        "outputId": "0cccf892-3183-448d-9f94-7c010dac1edf"
      },
      "outputs": [
        {
          "output_type": "stream",
          "name": "stdout",
          "text": [
            "(25000,) (25000,)\n"
          ]
        }
      ],
      "source": [
        "print(train_input.shape, test_input.shape)"
      ]
    },
    {
      "cell_type": "code",
      "execution_count": 4,
      "metadata": {
        "colab": {
          "base_uri": "https://localhost:8080/"
        },
        "id": "4jMLURzw6kQS",
        "outputId": "c0302727-ad47-4964-86b7-24796b6f4e8c"
      },
      "outputs": [
        {
          "output_type": "stream",
          "name": "stdout",
          "text": [
            "218\n"
          ]
        }
      ],
      "source": [
        "print(len(train_input[0]))"
      ]
    },
    {
      "cell_type": "code",
      "execution_count": 5,
      "metadata": {
        "colab": {
          "base_uri": "https://localhost:8080/"
        },
        "id": "xdO834PL6kQT",
        "outputId": "e4c8fd95-ca85-4ddf-b6c3-88980854037d"
      },
      "outputs": [
        {
          "output_type": "stream",
          "name": "stdout",
          "text": [
            "189\n"
          ]
        }
      ],
      "source": [
        "print(len(train_input[1]))"
      ]
    },
    {
      "cell_type": "code",
      "execution_count": 6,
      "metadata": {
        "colab": {
          "base_uri": "https://localhost:8080/"
        },
        "id": "QNuzGQ2c6kQT",
        "outputId": "5ecec504-954f-4041-fc0f-510564c2fded"
      },
      "outputs": [
        {
          "output_type": "stream",
          "name": "stdout",
          "text": [
            "[1, 14, 22, 16, 43, 2, 2, 2, 2, 65, 2, 2, 66, 2, 4, 173, 36, 256, 5, 25, 100, 43, 2, 112, 50, 2, 2, 9, 35, 2, 284, 5, 150, 4, 172, 112, 167, 2, 2, 2, 39, 4, 172, 2, 2, 17, 2, 38, 13, 2, 4, 192, 50, 16, 6, 147, 2, 19, 14, 22, 4, 2, 2, 2, 4, 22, 71, 87, 12, 16, 43, 2, 38, 76, 15, 13, 2, 4, 22, 17, 2, 17, 12, 16, 2, 18, 2, 5, 62, 2, 12, 8, 2, 8, 106, 5, 4, 2, 2, 16, 2, 66, 2, 33, 4, 130, 12, 16, 38, 2, 5, 25, 124, 51, 36, 135, 48, 25, 2, 33, 6, 22, 12, 215, 28, 77, 52, 5, 14, 2, 16, 82, 2, 8, 4, 107, 117, 2, 15, 256, 4, 2, 7, 2, 5, 2, 36, 71, 43, 2, 2, 26, 2, 2, 46, 7, 4, 2, 2, 13, 104, 88, 4, 2, 15, 297, 98, 32, 2, 56, 26, 141, 6, 194, 2, 18, 4, 226, 22, 21, 134, 2, 26, 2, 5, 144, 30, 2, 18, 51, 36, 28, 224, 92, 25, 104, 4, 226, 65, 16, 38, 2, 88, 12, 16, 283, 5, 16, 2, 113, 103, 32, 15, 16, 2, 19, 178, 32]\n"
          ]
        }
      ],
      "source": [
        "print(train_input[0])"
      ]
    },
    {
      "cell_type": "code",
      "execution_count": 7,
      "metadata": {
        "colab": {
          "base_uri": "https://localhost:8080/"
        },
        "id": "In8Qzltz6kQT",
        "outputId": "9081c841-cee5-4099-c090-2c0e068325a8"
      },
      "outputs": [
        {
          "output_type": "stream",
          "name": "stdout",
          "text": [
            "[1 0 0 1 0 0 1 0 1 0 1 0 0 0 0 0 1 1 0 1]\n"
          ]
        }
      ],
      "source": [
        "print(train_target[:20])"
      ]
    },
    {
      "cell_type": "code",
      "execution_count": 8,
      "metadata": {
        "id": "0-zjNgBw6kQU"
      },
      "outputs": [],
      "source": [
        "from sklearn.model_selection import train_test_split\n",
        "\n",
        "train_input, val_input, train_target, val_target = train_test_split(\n",
        "    train_input, train_target, test_size=0.2, random_state=42)"
      ]
    },
    {
      "cell_type": "code",
      "execution_count": 9,
      "metadata": {
        "id": "sRVvgntx6kQU"
      },
      "outputs": [],
      "source": [
        "import numpy as np\n",
        "\n",
        "lengths = np.array([len(x) for x in train_input])"
      ]
    },
    {
      "cell_type": "code",
      "execution_count": 10,
      "metadata": {
        "colab": {
          "base_uri": "https://localhost:8080/"
        },
        "id": "p76m_61w6kQU",
        "outputId": "c873585c-6028-4e5d-c91a-35ff52d51ead"
      },
      "outputs": [
        {
          "output_type": "stream",
          "name": "stdout",
          "text": [
            "239.00925 178.0\n"
          ]
        }
      ],
      "source": [
        "print(np.mean(lengths), np.median(lengths))"
      ]
    },
    {
      "cell_type": "code",
      "execution_count": 11,
      "metadata": {
        "colab": {
          "base_uri": "https://localhost:8080/",
          "height": 279
        },
        "id": "TVDrsRYF6kQV",
        "outputId": "bc047aa2-e3cd-4739-df78-cd374d1a7f9a"
      },
      "outputs": [
        {
          "output_type": "display_data",
          "data": {
            "text/plain": [
              "<Figure size 432x288 with 1 Axes>"
            ],
            "image/png": "[encoded data removed]"
          },
          "metadata": {
            "needs_background": "light"
          }
        }
      ],
      "source": [
        "import matplotlib.pyplot as plt\n",
        "\n",
        "plt.hist(lengths)\n",
        "plt.xlabel('length')\n",
        "plt.ylabel('frequency')\n",
        "plt.show()"
      ]
    },
    {
      "cell_type": "code",
      "execution_count": 12,
      "metadata": {
        "id": "fbLSFToP6kQV"
      },
      "outputs": [],
      "source": [
        "from tensorflow.keras.preprocessing.sequence import pad_sequences\n",
        "\n",
        "train_seq = pad_sequences(train_input, maxlen=100)"
      ]
    },
    {
      "cell_type": "code",
      "execution_count": 13,
      "metadata": {
        "colab": {
          "base_uri": "https://localhost:8080/"
        },
        "id": "3c86x0Yj6kQV",
        "outputId": "bf91a6f2-daf8-41bb-bcb7-2271a41a7fec"
      },
      "outputs": [
        {
          "output_type": "stream",
          "name": "stdout",
          "text": [
            "(20000, 100)\n"
          ]
        }
      ],
      "source": [
        "print(train_seq.shape)"
      ]
    },
    {
      "cell_type": "code",
      "execution_count": 14,
      "metadata": {
        "colab": {
          "base_uri": "https://localhost:8080/"
        },
        "id": "JuP0QJaU6kQW",
        "outputId": "4ffc9996-fb18-494f-9b3a-c7bc11455f54"
      },
      "outputs": [
        {
          "output_type": "stream",
          "name": "stdout",
          "text": [
            "[ 10   4  20   9   2   2   2   5  45   6   2   2  33 269   8   2 142   2\n",
            "   5   2  17  73  17 204   5   2  19  55   2   2  92  66 104  14  20  93\n",
            "  76   2 151  33   4  58  12 188   2 151  12 215  69 224 142  73 237   6\n",
            "   2   7   2   2 188   2 103  14  31  10  10   2   7   2   5   2  80  91\n",
            "   2  30   2  34  14  20 151  50  26 131  49   2  84  46  50  37  80  79\n",
            "   6   2  46   7  14  20  10  10   2 158]\n"
          ]
        }
      ],
      "source": [
        "print(train_seq[0])"
      ]
    },
    {
      "cell_type": "code",
      "execution_count": 15,
      "metadata": {
        "colab": {
          "base_uri": "https://localhost:8080/"
        },
        "id": "6t8kaDji6kQW",
        "outputId": "cd06e51f-e10c-49c6-bba5-d0d2fa0360e3"
      },
      "outputs": [
        {
          "output_type": "stream",
          "name": "stdout",
          "text": [
            "[6, 2, 46, 7, 14, 20, 10, 10, 2, 158]\n"
          ]
        }
      ],
      "source": [
        "print(train_input[0][-10:])"
      ]
    },
    {
      "cell_type": "code",
      "execution_count": 16,
      "metadata": {
        "colab": {
          "base_uri": "https://localhost:8080/"
        },
        "id": "Emmoztwa6kQX",
        "outputId": "0a5572e2-b455-4c83-e115-4a1a05612353",
        "scrolled": true
      },
      "outputs": [
        {
          "output_type": "stream",
          "name": "stdout",
          "text": [
            "[  0   0   0   0   1   2 195  19  49   2   2 190   4   2   2   2 183  10\n",
            "  10  13  82  79   4   2  36  71 269   8   2  25  19  49   7   4   2   2\n",
            "   2   2   2  10  10  48  25  40   2  11   2   2  40   2   2   5   4   2\n",
            "   2  95  14 238  56 129   2  10  10  21   2  94   2   2   2   2  11 190\n",
            "  24   2   2   7  94 205   2  10  10  87   2  34  49   2   7   2   2   2\n",
            "   2   2 290   2  46  48  64  18   4   2]\n"
          ]
        }
      ],
      "source": [
        "print(train_seq[5])"
      ]
    },
    {
      "cell_type": "code",
      "execution_count": 17,
      "metadata": {
        "id": "ZeFmsjOd6kQX"
      },
      "outputs": [],
      "source": [
        "val_seq = pad_sequences(val_input, maxlen=100)"
      ]
    },
    {
      "cell_type": "markdown",
      "metadata": {
        "id": "9xab0nu_6kQX"
      },
      "source": [
        "## 순환 신경망 만들기"
      ]
    },
    {
      "cell_type": "code",
      "execution_count": 18,
      "metadata": {
        "id": "45BtHGKX6kQX"
      },
      "outputs": [],
      "source": [
        "from tensorflow import keras\n",
        "\n",
        "model = keras.Sequential()\n",
        "\n",
        "model.add(keras.layers.SimpleRNN(8, input_shape=(100, 300)))\n",
        "model.add(keras.layers.Dense(1, activation='sigmoid'))"
      ]
    },
    {
      "cell_type": "code",
      "execution_count": 19,
      "metadata": {
        "id": "oXIWyOuw6kQY"
      },
      "outputs": [],
      "source": [
        "train_oh = keras.utils.to_categorical(train_seq)"
      ]
    },
    {
      "cell_type": "code",
      "execution_count": 20,
      "metadata": {
        "colab": {
          "base_uri": "https://localhost:8080/"
        },
        "id": "VD94WiRT6kQY",
        "outputId": "a97218f5-804c-4060-c537-1df582173c52"
      },
      "outputs": [
        {
          "output_type": "stream",
          "name": "stdout",
          "text": [
            "(20000, 100, 300)\n"
          ]
        }
      ],
      "source": [
        "print(train_oh.shape)"
      ]
    },
    {
      "cell_type": "code",
      "execution_count": 21,
      "metadata": {
        "colab": {
          "base_uri": "https://localhost:8080/"
        },
        "id": "VIVSHwJg6kQY",
        "outputId": "c2df3582-854d-4b89-8d80-b8411a6df5c0"
      },
      "outputs": [
        {
          "output_type": "stream",
          "name": "stdout",
          "text": [
            "[0. 0. 0. 0. 0. 0. 0. 0. 0. 0. 1. 0.]\n"
          ]
        }
      ],
      "source": [
        "print(train_oh[0][0][:12])"
      ]
    },
    {
      "cell_type": "code",
      "execution_count": 22,
      "metadata": {
        "colab": {
          "base_uri": "https://localhost:8080/"
        },
        "id": "CP3ivii46kQZ",
        "outputId": "802d01d6-0d4f-4ec9-a5ea-2a4bbccb3fa9"
      },
      "outputs": [
        {
          "output_type": "stream",
          "name": "stdout",
          "text": [
            "1.0\n"
          ]
        }
      ],
      "source": [
        "print(np.sum(train_oh[0][0]))"
      ]
    },
    {
      "cell_type": "code",
      "execution_count": 23,
      "metadata": {
        "id": "vgijH6m26kQZ"
      },
      "outputs": [],
      "source": [
        "val_oh = keras.utils.to_categorical(val_seq)"
      ]
    },
    {
      "cell_type": "code",
      "execution_count": 24,
      "metadata": {
        "colab": {
          "base_uri": "https://localhost:8080/"
        },
        "id": "0V0Svpuf6kQZ",
        "outputId": "5262a7c4-bb80-47fa-e149-ff02fc13b033"
      },
      "outputs": [
        {
          "output_type": "stream",
          "name": "stdout",
          "text": [
            "Model: \"sequential\"\n",
            "_________________________________________________________________\n",
            " Layer (type)                Output Shape              Param #   \n",
            "=================================================================\n",
            " simple_rnn (SimpleRNN)      (None, 8)                 2472      \n",
            "                                                                 \n",
            " dense (Dense)               (None, 1)                 9         \n",
            "                                                                 \n",
            "=================================================================\n",
            "Total params: 2,481\n",
            "Trainable params: 2,481\n",
            "Non-trainable params: 0\n",
            "_________________________________________________________________\n"
          ]
        }
      ],
      "source": [
        "model.summary()"
      ]
    },
    {
      "cell_type": "markdown",
      "metadata": {
        "id": "S22Hc-7L6kQZ"
      },
      "source": [
        "## 순환 신경망 훈련하기"
      ]
    },
    {
      "cell_type": "code",
      "execution_count": 25,
      "metadata": {
        "colab": {
          "base_uri": "https://localhost:8080/"
        },
        "id": "YcwM299t6kQZ",
        "outputId": "a5d754f7-649a-4349-ab48-861a0c3f514f"
      },
      "outputs": [
        {
          "output_type": "stream",
          "name": "stdout",
          "text": [
            "Epoch 1/100\n",
            "313/313 [==============================] - 30s 79ms/step - loss: 0.7003 - accuracy: 0.5002 - val_loss: 0.6970 - val_accuracy: 0.5058\n",
            "Epoch 2/100\n",
            "313/313 [==============================] - 23s 72ms/step - loss: 0.6956 - accuracy: 0.5123 - val_loss: 0.6946 - val_accuracy: 0.5124\n",
            "Epoch 3/100\n",
            "313/313 [==============================] - 25s 79ms/step - loss: 0.6917 - accuracy: 0.5282 - val_loss: 0.6909 - val_accuracy: 0.5318\n",
            "Epoch 4/100\n",
            "313/313 [==============================] - 23s 73ms/step - loss: 0.6844 - accuracy: 0.5549 - val_loss: 0.6833 - val_accuracy: 0.5690\n",
            "Epoch 5/100\n",
            "313/313 [==============================] - 23s 73ms/step - loss: 0.6784 - accuracy: 0.5778 - val_loss: 0.6797 - val_accuracy: 0.5770\n",
            "Epoch 6/100\n",
            "313/313 [==============================] - 21s 68ms/step - loss: 0.6733 - accuracy: 0.5892 - val_loss: 0.6753 - val_accuracy: 0.5856\n",
            "Epoch 7/100\n",
            "313/313 [==============================] - 22s 72ms/step - loss: 0.6679 - accuracy: 0.6072 - val_loss: 0.6696 - val_accuracy: 0.5980\n",
            "Epoch 8/100\n",
            "313/313 [==============================] - 23s 72ms/step - loss: 0.6616 - accuracy: 0.6195 - val_loss: 0.6633 - val_accuracy: 0.6104\n",
            "Epoch 9/100\n",
            "313/313 [==============================] - 22s 72ms/step - loss: 0.6539 - accuracy: 0.6312 - val_loss: 0.6568 - val_accuracy: 0.6200\n",
            "Epoch 10/100\n",
            "313/313 [==============================] - 23s 72ms/step - loss: 0.6462 - accuracy: 0.6448 - val_loss: 0.6474 - val_accuracy: 0.6372\n",
            "Epoch 11/100\n",
            "313/313 [==============================] - 23s 74ms/step - loss: 0.6375 - accuracy: 0.6571 - val_loss: 0.6414 - val_accuracy: 0.6506\n",
            "Epoch 12/100\n",
            "313/313 [==============================] - 22s 70ms/step - loss: 0.6282 - accuracy: 0.6684 - val_loss: 0.6304 - val_accuracy: 0.6614\n",
            "Epoch 13/100\n",
            "313/313 [==============================] - 22s 71ms/step - loss: 0.6194 - accuracy: 0.6791 - val_loss: 0.6212 - val_accuracy: 0.6740\n",
            "Epoch 14/100\n",
            "313/313 [==============================] - 23s 72ms/step - loss: 0.6094 - accuracy: 0.6877 - val_loss: 0.6124 - val_accuracy: 0.6842\n",
            "Epoch 15/100\n",
            "313/313 [==============================] - 23s 74ms/step - loss: 0.5996 - accuracy: 0.7000 - val_loss: 0.6027 - val_accuracy: 0.6918\n",
            "Epoch 16/100\n",
            "313/313 [==============================] - 23s 73ms/step - loss: 0.5903 - accuracy: 0.7082 - val_loss: 0.5928 - val_accuracy: 0.6978\n",
            "Epoch 17/100\n",
            "313/313 [==============================] - 23s 73ms/step - loss: 0.5818 - accuracy: 0.7134 - val_loss: 0.5849 - val_accuracy: 0.7026\n",
            "Epoch 18/100\n",
            "313/313 [==============================] - 22s 69ms/step - loss: 0.5731 - accuracy: 0.7204 - val_loss: 0.5782 - val_accuracy: 0.7106\n",
            "Epoch 19/100\n",
            "313/313 [==============================] - 22s 71ms/step - loss: 0.5647 - accuracy: 0.7261 - val_loss: 0.5691 - val_accuracy: 0.7162\n",
            "Epoch 20/100\n",
            "313/313 [==============================] - 22s 72ms/step - loss: 0.5570 - accuracy: 0.7321 - val_loss: 0.5623 - val_accuracy: 0.7204\n",
            "Epoch 21/100\n",
            "313/313 [==============================] - 22s 72ms/step - loss: 0.5510 - accuracy: 0.7337 - val_loss: 0.5561 - val_accuracy: 0.7254\n",
            "Epoch 22/100\n",
            "313/313 [==============================] - 23s 73ms/step - loss: 0.5445 - accuracy: 0.7391 - val_loss: 0.5517 - val_accuracy: 0.7260\n",
            "Epoch 23/100\n",
            "313/313 [==============================] - 23s 74ms/step - loss: 0.5382 - accuracy: 0.7420 - val_loss: 0.5477 - val_accuracy: 0.7296\n",
            "Epoch 24/100\n",
            "313/313 [==============================] - 22s 69ms/step - loss: 0.5336 - accuracy: 0.7470 - val_loss: 0.5423 - val_accuracy: 0.7320\n",
            "Epoch 25/100\n",
            "313/313 [==============================] - 23s 72ms/step - loss: 0.5300 - accuracy: 0.7472 - val_loss: 0.5383 - val_accuracy: 0.7340\n",
            "Epoch 26/100\n",
            "313/313 [==============================] - 22s 72ms/step - loss: 0.5261 - accuracy: 0.7509 - val_loss: 0.5358 - val_accuracy: 0.7370\n",
            "Epoch 27/100\n",
            "313/313 [==============================] - 22s 71ms/step - loss: 0.5223 - accuracy: 0.7531 - val_loss: 0.5326 - val_accuracy: 0.7394\n",
            "Epoch 28/100\n",
            "313/313 [==============================] - 22s 71ms/step - loss: 0.5194 - accuracy: 0.7552 - val_loss: 0.5321 - val_accuracy: 0.7390\n",
            "Epoch 29/100\n",
            "313/313 [==============================] - 24s 76ms/step - loss: 0.5160 - accuracy: 0.7574 - val_loss: 0.5453 - val_accuracy: 0.7302\n",
            "Epoch 30/100\n",
            "313/313 [==============================] - 22s 70ms/step - loss: 0.5134 - accuracy: 0.7582 - val_loss: 0.5268 - val_accuracy: 0.7430\n",
            "Epoch 31/100\n",
            "313/313 [==============================] - 22s 70ms/step - loss: 0.5115 - accuracy: 0.7595 - val_loss: 0.5254 - val_accuracy: 0.7450\n",
            "Epoch 32/100\n",
            "313/313 [==============================] - 23s 72ms/step - loss: 0.5092 - accuracy: 0.7615 - val_loss: 0.5248 - val_accuracy: 0.7450\n",
            "Epoch 33/100\n",
            "313/313 [==============================] - 22s 72ms/step - loss: 0.5071 - accuracy: 0.7620 - val_loss: 0.5239 - val_accuracy: 0.7424\n",
            "Epoch 34/100\n",
            "313/313 [==============================] - 23s 72ms/step - loss: 0.5047 - accuracy: 0.7627 - val_loss: 0.5239 - val_accuracy: 0.7430\n",
            "Epoch 35/100\n",
            "313/313 [==============================] - 22s 71ms/step - loss: 0.5040 - accuracy: 0.7640 - val_loss: 0.5217 - val_accuracy: 0.7472\n",
            "Epoch 36/100\n",
            "313/313 [==============================] - 22s 69ms/step - loss: 0.5023 - accuracy: 0.7645 - val_loss: 0.5195 - val_accuracy: 0.7456\n",
            "Epoch 37/100\n",
            "313/313 [==============================] - 22s 71ms/step - loss: 0.5008 - accuracy: 0.7658 - val_loss: 0.5200 - val_accuracy: 0.7474\n",
            "Epoch 38/100\n",
            "313/313 [==============================] - 22s 71ms/step - loss: 0.4994 - accuracy: 0.7647 - val_loss: 0.5198 - val_accuracy: 0.7484\n",
            "Epoch 39/100\n",
            "313/313 [==============================] - 22s 71ms/step - loss: 0.4982 - accuracy: 0.7648 - val_loss: 0.5206 - val_accuracy: 0.7472\n"
          ]
        }
      ],
      "source": [
        "rmsprop = keras.optimizers.RMSprop(learning_rate=1e-4)\n",
        "model.compile(optimizer=rmsprop, loss='binary_crossentropy', \n",
        "              metrics=['accuracy'])\n",
        "\n",
        "checkpoint_cb = keras.callbacks.ModelCheckpoint('best-simplernn-model.h5', \n",
        "                                                save_best_only=True)\n",
        "early_stopping_cb = keras.callbacks.EarlyStopping(patience=3,\n",
        "                                                  restore_best_weights=True)\n",
        "\n",
        "history = model.fit(train_oh, train_target, epochs=100, batch_size=64,\n",
        "                    validation_data=(val_oh, val_target),\n",
        "                    callbacks=[checkpoint_cb, early_stopping_cb])"
      ]
    },
    {
      "cell_type": "code",
      "execution_count": 26,
      "metadata": {
        "colab": {
          "base_uri": "https://localhost:8080/",
          "height": 279
        },
        "id": "YS_5tIG26kQa",
        "outputId": "18eda99e-1ac8-4174-9da8-2051e82e8ab6"
      },
      "outputs": [
        {
          "output_type": "display_data",
          "data": {
            "text/plain": [
              "<Figure size 432x288 with 1 Axes>"
            ],
            "image/png": "[encoded data removed]"
          },
          "metadata": {
            "needs_background": "light"
          }
        }
      ],
      "source": [
        "plt.plot(history.history['loss'])\n",
        "plt.plot(history.history['val_loss'])\n",
        "plt.xlabel('epoch')\n",
        "plt.ylabel('loss')\n",
        "plt.legend(['train', 'val'])\n",
        "plt.show()"
      ]
    },
    {
      "cell_type": "markdown",
      "metadata": {
        "id": "K_U_lVie6kQa"
      },
      "source": [
        "## 단어 임베딩을 사용하기"
      ]
    },
    {
      "cell_type": "code",
      "execution_count": 27,
      "metadata": {
        "colab": {
          "base_uri": "https://localhost:8080/"
        },
        "id": "Ofl-Ifev6kQa",
        "outputId": "073eefb4-ec62-473a-ec84-54474f6b1ce3"
      },
      "outputs": [
        {
          "output_type": "stream",
          "name": "stdout",
          "text": [
            "Model: \"sequential_1\"\n",
            "_________________________________________________________________\n",
            " Layer (type)                Output Shape              Param #   \n",
            "=================================================================\n",
            " embedding (Embedding)       (None, 100, 16)           4800      \n",
            "                                                                 \n",
            " simple_rnn_1 (SimpleRNN)    (None, 8)                 200       \n",
            "                                                                 \n",
            " dense_1 (Dense)             (None, 1)                 9         \n",
            "                                                                 \n",
            "=================================================================\n",
            "Total params: 5,009\n",
            "Trainable params: 5,009\n",
            "Non-trainable params: 0\n",
            "_________________________________________________________________\n"
          ]
        }
      ],
      "source": [
        "model2 = keras.Sequential()\n",
        "\n",
        "model2.add(keras.layers.Embedding(300, 16, input_length=100))\n",
        "model2.add(keras.layers.SimpleRNN(8))\n",
        "model2.add(keras.layers.Dense(1, activation='sigmoid'))\n",
        "\n",
        "model2.summary()"
      ]
    },
    {
      "cell_type": "code",
      "execution_count": 28,
      "metadata": {
        "colab": {
          "base_uri": "https://localhost:8080/"
        },
        "id": "78TUrJAs6kQa",
        "outputId": "e25ba678-f0ee-43ae-f341-080934d2e28f"
      },
      "outputs": [
        {
          "output_type": "stream",
          "name": "stdout",
          "text": [
            "Epoch 1/100\n",
            "313/313 [==============================] - 40s 121ms/step - loss: 0.6893 - accuracy: 0.5351 - val_loss: 0.6706 - val_accuracy: 0.5872\n",
            "Epoch 2/100\n",
            "313/313 [==============================] - 35s 111ms/step - loss: 0.6399 - accuracy: 0.6467 - val_loss: 0.6234 - val_accuracy: 0.6664\n",
            "Epoch 3/100\n",
            "313/313 [==============================] - 35s 113ms/step - loss: 0.6051 - accuracy: 0.6941 - val_loss: 0.6003 - val_accuracy: 0.6948\n",
            "Epoch 4/100\n",
            "313/313 [==============================] - 35s 113ms/step - loss: 0.5831 - accuracy: 0.7172 - val_loss: 0.5888 - val_accuracy: 0.7026\n",
            "Epoch 5/100\n",
            "313/313 [==============================] - 34s 108ms/step - loss: 0.5663 - accuracy: 0.7305 - val_loss: 0.5669 - val_accuracy: 0.7300\n",
            "Epoch 6/100\n",
            "313/313 [==============================] - 35s 111ms/step - loss: 0.5527 - accuracy: 0.7408 - val_loss: 0.5536 - val_accuracy: 0.7356\n",
            "Epoch 7/100\n",
            "313/313 [==============================] - 35s 112ms/step - loss: 0.5410 - accuracy: 0.7475 - val_loss: 0.5422 - val_accuracy: 0.7404\n",
            "Epoch 8/100\n",
            "313/313 [==============================] - 35s 111ms/step - loss: 0.5313 - accuracy: 0.7509 - val_loss: 0.5443 - val_accuracy: 0.7352\n",
            "Epoch 9/100\n",
            "313/313 [==============================] - 34s 110ms/step - loss: 0.5236 - accuracy: 0.7549 - val_loss: 0.5463 - val_accuracy: 0.7238\n",
            "Epoch 10/100\n",
            "313/313 [==============================] - 35s 112ms/step - loss: 0.5177 - accuracy: 0.7578 - val_loss: 0.5377 - val_accuracy: 0.7382\n",
            "Epoch 11/100\n",
            "313/313 [==============================] - 34s 109ms/step - loss: 0.5135 - accuracy: 0.7591 - val_loss: 0.5264 - val_accuracy: 0.7454\n",
            "Epoch 12/100\n",
            "313/313 [==============================] - 34s 109ms/step - loss: 0.5094 - accuracy: 0.7619 - val_loss: 0.5265 - val_accuracy: 0.7422\n",
            "Epoch 13/100\n",
            "313/313 [==============================] - 35s 112ms/step - loss: 0.5056 - accuracy: 0.7641 - val_loss: 0.5207 - val_accuracy: 0.7468\n",
            "Epoch 14/100\n",
            "313/313 [==============================] - 34s 110ms/step - loss: 0.5027 - accuracy: 0.7657 - val_loss: 0.5226 - val_accuracy: 0.7434\n",
            "Epoch 15/100\n",
            "313/313 [==============================] - 35s 112ms/step - loss: 0.4998 - accuracy: 0.7689 - val_loss: 0.5678 - val_accuracy: 0.6992\n",
            "Epoch 16/100\n",
            "313/313 [==============================] - 35s 111ms/step - loss: 0.4977 - accuracy: 0.7677 - val_loss: 0.5155 - val_accuracy: 0.7500\n",
            "Epoch 17/100\n",
            "313/313 [==============================] - 35s 111ms/step - loss: 0.4944 - accuracy: 0.7713 - val_loss: 0.5222 - val_accuracy: 0.7450\n",
            "Epoch 18/100\n",
            "313/313 [==============================] - 33s 106ms/step - loss: 0.4927 - accuracy: 0.7712 - val_loss: 0.5149 - val_accuracy: 0.7486\n",
            "Epoch 19/100\n",
            "313/313 [==============================] - 35s 111ms/step - loss: 0.4905 - accuracy: 0.7730 - val_loss: 0.5138 - val_accuracy: 0.7464\n",
            "Epoch 20/100\n",
            "313/313 [==============================] - 34s 110ms/step - loss: 0.4880 - accuracy: 0.7740 - val_loss: 0.5124 - val_accuracy: 0.7500\n",
            "Epoch 21/100\n",
            "313/313 [==============================] - 35s 111ms/step - loss: 0.4871 - accuracy: 0.7749 - val_loss: 0.5143 - val_accuracy: 0.7488\n",
            "Epoch 22/100\n",
            "313/313 [==============================] - 34s 110ms/step - loss: 0.4847 - accuracy: 0.7775 - val_loss: 0.5148 - val_accuracy: 0.7486\n",
            "Epoch 23/100\n",
            "313/313 [==============================] - 34s 107ms/step - loss: 0.4830 - accuracy: 0.7775 - val_loss: 0.5135 - val_accuracy: 0.7500\n"
          ]
        }
      ],
      "source": [
        "rmsprop = keras.optimizers.RMSprop(learning_rate=1e-4)\n",
        "model2.compile(optimizer=rmsprop, loss='binary_crossentropy', \n",
        "               metrics=['accuracy'])\n",
        "\n",
        "checkpoint_cb = keras.callbacks.ModelCheckpoint('best-embedding-model.h5', \n",
        "                                                save_best_only=True)\n",
        "early_stopping_cb = keras.callbacks.EarlyStopping(patience=3,\n",
        "                                                  restore_best_weights=True)\n",
        "\n",
        "history = model2.fit(train_seq, train_target, epochs=100, batch_size=64,\n",
        "                     validation_data=(val_seq, val_target),\n",
        "                     callbacks=[checkpoint_cb, early_stopping_cb])"
      ]
    },
    {
      "cell_type": "code",
      "execution_count": 29,
      "metadata": {
        "colab": {
          "base_uri": "https://localhost:8080/",
          "height": 279
        },
        "id": "brUvKwLt6kQb",
        "outputId": "a4714573-fe0a-4457-d152-45f7539f3924",
        "tags": []
      },
      "outputs": [
        {
          "output_type": "display_data",
          "data": {
            "text/plain": [
              "<Figure size 432x288 with 1 Axes>"
            ],
            "image/png": "[encoded data removed]"
          },
          "metadata": {
            "needs_background": "light"
          }
        }
      ],
      "source": [
        "plt.plot(history.history['loss'])\n",
        "plt.plot(history.history['val_loss'])\n",
        "plt.xlabel('epoch')\n",
        "plt.ylabel('loss')\n",
        "plt.legend(['train', 'val'])\n",
        "plt.show()"
      ]
    }
  ],
  "metadata": {
    "accelerator": "GPU",
    "colab": {
      "name": "9-2.ipynb",
      "provenance": []
    },
    "kernelspec": {
      "display_name": "default:Python",
      "language": "python",
      "name": "conda-env-default-py"
    },
    "language_info": {
      "codemirror_mode": {
        "name": "ipython",
        "version": 3
      },
      "file_extension": ".py",
      "mimetype": "text/x-python",
      "name": "python",
      "nbconvert_exporter": "python",
      "pygments_lexer": "ipython3",
      "version": "3.9.10"
    }
  },
  "nbformat": 4,
  "nbformat_minor": 0
}